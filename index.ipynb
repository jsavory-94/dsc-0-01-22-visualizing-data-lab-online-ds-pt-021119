{
 "cells": [
  {
   "cell_type": "markdown",
   "metadata": {},
   "source": [
    "# Data Visualization Lab"
   ]
  },
  {
   "cell_type": "markdown",
   "metadata": {},
   "source": [
    "## Introduction\n",
    "This lab will give you some structured practice working with the concepts introduced in the previous lesson."
   ]
  },
  {
   "cell_type": "markdown",
   "metadata": {},
   "source": [
    "# Objectives\n",
    "You will be able to:\n",
    "* Understand matplotlib plot structure for drawing basic plots.\n",
    "* Visualize data using scatterplots, barplots and histograms"
   ]
  },
  {
   "cell_type": "markdown",
   "metadata": {},
   "source": [
    "## Exercise 1\n",
    "\n",
    "Make a vertical bar graph using `plt.bar()` for the following set of data:\n",
    "\n",
    ">Jim's Video Library contains 40 crime/mystery, 30 science fiction, 10 drama, 50 comedy, 25 action and 5 documentary movies.\n",
    "\n",
    "* Set a figure size of 8x6 inches\n",
    "* Set x-axis (genres) and y-axis (number of movies)\n",
    "* Plot and label the bar graph\n",
    "* Provide a suitable title\n",
    "* Label x and y-axis\n"
   ]
  },
  {
   "cell_type": "code",
   "execution_count": 1,
   "metadata": {},
   "outputs": [
    {
     "data": {
      "text/plain": [
       "[{'Genre': 'crime/mystery', 'Quantity': 40},\n",
       " {'Genre': 'science fiction', 'Quantity': 30},\n",
       " {'Genre': 'drama', 'Quantity': 10},\n",
       " {'Genre': 'comedy', 'Quantity': 50},\n",
       " {'Genre': 'action', 'Quantity': 25},\n",
       " {'Genre': 'documentary', 'Quantity': 5}]"
      ]
     },
     "execution_count": 1,
     "metadata": {},
     "output_type": "execute_result"
    }
   ],
   "source": [
    "jims_library = [{'Genre':'crime/mystery', 'Quantity':40}, {'Genre': 'science fiction', 'Quantity':30}, {'Genre': 'drama', 'Quantity':10}, {'Genre': 'comedy', 'Quantity':50}, {'Genre': 'action', 'Quantity':25}, {'Genre': 'documentary', 'Quantity':5}]\n",
    "jims_library"
   ]
  },
  {
   "cell_type": "code",
   "execution_count": 4,
   "metadata": {},
   "outputs": [
    {
     "data": {
      "image/png": "[encoded data removed]",
      "text/plain": [
       "<Figure size 720x432 with 1 Axes>"
      ]
     },
     "metadata": {
      "needs_background": "light"
     },
     "output_type": "display_data"
    }
   ],
   "source": [
    "# import the required libraries\n",
    "import numpy as np\n",
    "import matplotlib.pyplot as plt\n",
    "\n",
    "#Populate x and y values\n",
    "y = []\n",
    "x =[]\n",
    "labels = None\n",
    "\n",
    "for jim in jims_library:\n",
    "    x.append(jim['Genre'])\n",
    "    y.append(jim['Quantity'])\n",
    "    \n",
    "# Set a figure size\n",
    "plt.figure(figsize=(10,6))\n",
    "\n",
    "# Plot vertical bars of fixed width by passing x and y values to .bar() function \n",
    "plt.bar(x, y, label='Number of Movies')\n",
    "\n",
    "# Give a title to the bar graph\n",
    "plt.title('Movies in Jim\\'s Library')\n",
    "\n",
    "# Output the final plot\n",
    "plt.show()"
   ]
  },
  {
   "cell_type": "markdown",
   "metadata": {},
   "source": [
    "## Exercise 2\n",
    "\n",
    "The table shows the data collected by a Consumer Products Group on the relationship between the weight of a car and its average gas mileage.\n",
    "\n",
    "      Car Type  Weight\tmiles per gallon\n",
    "        A\t    2750\t   29\n",
    "        B\t    3125\t   23\n",
    "        C\t    2100\t   33\n",
    "        D\t    4082\t   18\n",
    "        E\t    2690\t   20\n",
    "        F\t    3640\t   21\n",
    "        G\t    4380\t   14\n",
    "        H\t    2241\t   25\n",
    "        I\t    2895\t   31\n",
    "        J\t    3659\t   17\n",
    "        \n",
    "* Use a scatter plot to show the relationship between mpg and weight of a car. \n",
    "* Set an appropriate figure size, labels for axes and the plot.\n",
    "* Give a title to the plot\n",
    "\n",
    "Looking the scatter plot, how would you describe the relationship between these two attributes?"
   ]
  },
  {
   "cell_type": "code",
   "execution_count": 9,
   "metadata": {},
   "outputs": [
    {
     "data": {
      "image/png": "[encoded data removed]",
      "text/plain": [
       "<Figure size 720x432 with 1 Axes>"
      ]
     },
     "metadata": {
      "needs_background": "light"
     },
     "output_type": "display_data"
    }
   ],
   "source": [
    "#Populate weight and mpg\n",
    "cars = [{'Car Type': 'A', 'Weight': 2750, 'miles per gallon': 29}, {'Car Type': 'B', 'Weight': 3125, 'miles per gallon': 23}, {'Car Type': 'C', 'Weight': 2100, 'miles per gallon': 33}, {'Car Type': 'D', 'Weight': 4082, 'miles per gallon': 18}, {'Car Type': 'E', 'Weight': 2690, 'miles per gallon': 20}, {'Car Type': 'F', 'Weight': 3640, 'miles per gallon': 21}, {'Car Type': 'G', 'Weight': 4380, 'miles per gallon': 14}, {'Car Type': 'H', 'Weight': 2241, 'miles per gallon': 25}, {'Car Type': 'I', 'Weight': 2895, 'miles per gallon': 31}, {'Car Type': 'J', 'Weight': 3659, 'miles per gallon': 17}]\n",
    "weight = []\n",
    "mpg = []\n",
    "\n",
    "for car in cars:\n",
    "    weight.append(car['Weight'])\n",
    "    mpg.append(car['miles per gallon'])\n",
    "\n",
    "# Set the figure size in inches\n",
    "plt.figure(figsize=(10,6))\n",
    "\n",
    "# Plot with scatter()\n",
    "plt.scatter(weight, mpg, label = 'data ')\n",
    "\n",
    "# Set x and y axes labels and give titles\n",
    "plt.xlabel('Weight')\n",
    "plt.ylabel('MPG')\n",
    "\n",
    "#Plot graph\n",
    "plt.title(\"relationship between mpg and weight of a car\".title())\n",
    "plt.legend()\n",
    "plt.show()"
   ]
  },
  {
   "cell_type": "markdown",
   "metadata": {},
   "source": [
    "## Exercise 3"
   ]
  },
  {
   "cell_type": "markdown",
   "metadata": {},
   "source": [
    "Joe is the branch manager at a bank. Recently, Joe been receiving customer feedback saying that the waiting times for a client to be served by a customer service representative are too long. Joe decides to observe and write down the time spent by each customer on waiting. Here are his findings from observing and writing down the wait times (in seconds), spent by 20 customers:\n",
    "\n",
    "43.1, 35.6, 37.5, 36.5, 45.3, 43.4, 40.3, 50.2, 47.3, 31.2, 42.2, 45.5, 30.3, 31.4, 35.6, 45.2, 54.1, 45.6, 36.5, 43.1\n",
    "\n",
    "* Build a histogram of these values using the `hist()` function\n",
    "* Plot, label and give a title as above. Use  `bins=5`\n",
    "* Briefly describe the output in terms of waiting times. \n"
   ]
  },
  {
   "cell_type": "code",
   "execution_count": 7,
   "metadata": {},
   "outputs": [
    {
     "data": {
      "image/png": "[encoded data removed]",
      "text/plain": [
       "<Figure size 432x288 with 1 Axes>"
      ]
     },
     "metadata": {},
     "output_type": "display_data"
    }
   ],
   "source": [
    "import matplotlib.pyplot as plt\n",
    "\n",
    "x = [43.1, 35.6, 37.5, 36.5, 45.3, 43.4, 40.3, 50.2, 47.3, 31.2, 42.2, 45.5, 30.3, 31.4, 35.6, 45.2, 54.1, 45.6, 36.5, 43.1]\n",
    "\n",
    "#Plot the distogram with hist() function\n",
    "plt.hist(x, bins = 10)\n",
    "plt.xlabel('Wait time in seconds')\n",
    "plt.ylabel('Frequency of values')\n",
    "\n",
    "# Label, give title and show the plot\n",
    "plt.title('Waiting times of customers')\n",
    "plt.show()"
   ]
  },
  {
   "cell_type": "markdown",
   "metadata": {},
   "source": [
    "## Description\n",
    "\n",
    "All wait times occur within a range of 30 - 55 seconds.\n",
    "The most common wait times for calls is 35, 42, and 45 seconds.  "
   ]
  },
  {
   "cell_type": "markdown",
   "metadata": {},
   "source": [
    "## Summary\n",
    "\n",
    "Hopefully this lab has given you some good practice working with creating plots in Python using Matplotlib."
   ]
  }
 ],
 "metadata": {
  "kernelspec": {
   "display_name": "Python 3",
   "language": "python",
   "name": "python3"
  },
  "language_info": {
   "codemirror_mode": {
    "name": "ipython",
    "version": 3
   },
   "file_extension": ".py",
   "mimetype": "text/x-python",
   "name": "python",
   "nbconvert_exporter": "python",
   "pygments_lexer": "ipython3",
   "version": "3.6.5"
  }
 },
 "nbformat": 4,
 "nbformat_minor": 2
}
